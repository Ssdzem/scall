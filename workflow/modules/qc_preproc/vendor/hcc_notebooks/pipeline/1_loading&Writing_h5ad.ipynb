{
 "cells": [
  {
   "cell_type": "markdown",
   "id": "214de3e9",
   "metadata": {},
   "source": [
    "# Single-cell analysis to characterize the cellular microenvironment in hepatoblastoma"
   ]
  },
  {
   "cell_type": "markdown",
   "id": "10d57a26",
   "metadata": {},
   "source": [
    "This ipython notebook works with the data from Bondoc *et al.* (2021) **_\"Identification of distinct tumor cell populations and key genetic mechanisms through single cell sequencing in hepatoblastoma\"_** & MacParland *et al.* (2018) **_\"Single cell RNA sequencing of human liver reveals distinct intrahepatic macrophage populations\"_**."
   ]
  },
  {
   "cell_type": "markdown",
   "id": "740b8d9a",
   "metadata": {},
   "source": [
    "Datasets were taken through the Human Cell Atlas (HCA) portal to develop a single-cell pipeline that allowed us to characterize all the cell types in both datasets as an experiment previous to adapt the pipeline for our particular analysis with Hepatocarcinoma samples (in process of collection)."
   ]
  },
  {
   "cell_type": "markdown",
   "id": "523cd66c",
   "metadata": {},
   "source": [
    "For Bondoc *et al.* we decided to use 5 tumoral samples and 2 controls. While for MacParland *et al.* we took 5 healthy liver (control) samples. After that and previous to preprocess the data we clean the data to only work with the **number of genes (n_genes), gene ids and the number of cells (n_cells)**."
   ]
  },
  {
   "cell_type": "markdown",
   "id": "aa90cc95",
   "metadata": {},
   "source": [
    "Before any process we load the necessary libraries. The Scanpy API grants access to all its platform tools. It utilizes scientific libraries like NumPy and SciPy, and employs Pandas for data import and as the basis for its data structures, including the AnnData module. For visualizations, we use Matplotlib and Seaborn."
   ]
  },
  {
   "cell_type": "markdown",
   "id": "2618f6cc",
   "metadata": {},
   "source": [
    "### **Timing**\n",
    "\n",
    "Each notebook takes a different amount of time to run its process. Approximately running from the first notebook to the sixth notebook takes an average time of 3.5 hours, plus the time it may take to perform manual cell labeling (notebook 5). "
   ]
  },
  {
   "cell_type": "markdown",
   "id": "2cdd0b5f",
   "metadata": {},
   "source": [
    "### Special Acknowledgments \n",
    "\n",
    "This work could not be possible without the work of **Haber et al.**, 2018 (Epithelial cells in different intestinal regions by 10x Chromium), **Ernesto Paas**, 2023 (Example Workflow for Computational Oncology) & **Mark Sanborn**, 2022 (Single-cell analysis complete class) as a guide to develop this pipeline."
   ]
  },
  {
   "cell_type": "code",
   "execution_count": 3,
   "id": "de0efc3e",
   "metadata": {},
   "outputs": [
    {
     "name": "stderr",
     "output_type": "stream",
     "text": [
      "/home/jupyter-mdiaz/.local/lib/python3.9/site-packages/scvi/_settings.py:63: UserWarning: Since v1.0.0, scvi-tools no longer uses a random seed by default. Run `scvi.settings.seed = 0` to reproduce results from previous versions.\n",
      "  self.seed = seed\n",
      "/home/jupyter-mdiaz/.local/lib/python3.9/site-packages/scvi/_settings.py:70: UserWarning: Setting `dl_pin_memory_gpu_training` is deprecated in v1.0 and will be removed in v1.1. Please pass in `pin_memory` to the data loaders instead.\n",
      "  self.dl_pin_memory_gpu_training = (\n"
     ]
    }
   ],
   "source": [
    "#For downloads\n",
    "import gdown, os, gzip, shutil\n",
    "\n",
    "# Basic data management and plotting\n",
    "import pandas as pd\n",
    "import numpy as np\n",
    "from scipy import sparse\n",
    "import matplotlib.pyplot as plt\n",
    "import os\n",
    "\n",
    "# Scanpy fundamentals\n",
    "import anndata as ad\n",
    "import scanpy as sc\n",
    "import seaborn as sb\n",
    "\n",
    "# sc.settings.set_figure_params(dpi=200, frameon=False)\n",
    "sc.set_figure_params(figsize=(6, 6))\n",
    "import scvi"
   ]
  },
  {
   "cell_type": "markdown",
   "id": "4c9d60a9",
   "metadata": {},
   "source": [
    "# Disclaimer"
   ]
  },
  {
   "cell_type": "markdown",
   "id": "15812cab",
   "metadata": {},
   "source": [
    "Data from the MacParland et al. were downloaded as loom files (7.67 GB), not the full information file which is a 120 samples fastq file (241.07 GB). Before preprocessing the samples, we loaded them to look all the information they conserved for the analysis. \n",
    "\n",
    "We used scanpy to preserve the information we were interested in from each loom file and saved them with a h5ad format for further analysis. \n",
    "\n",
    "While for Bondoc et al. data, they published their full data in a fastq file format with 42 samples (235.73 GB), for this analysis we used their 10X matrix files with a lower number of samples; 2 healthy liver samples (control) and 5 tumor samples from Hepatoblastoma (2.63 GB). \n",
    "\n",
    "Finally, we give a simple name for each sample and store them as h5ad files. "
   ]
  },
  {
   "cell_type": "markdown",
   "id": "8d3e68d8",
   "metadata": {},
   "source": [
    "# Loading healthy liver controls"
   ]
  },
  {
   "cell_type": "code",
   "execution_count": 4,
   "id": "d4403e8d",
   "metadata": {},
   "outputs": [
    {
     "name": "stdout",
     "output_type": "stream",
     "text": [
      "/datos/home/jupyter-mdiaz/experimento_3/COMPLETO/loom_files\n"
     ]
    }
   ],
   "source": [
    "%cd /datos/home/jupyter-mdiaz/experimento_3/COMPLETO/loom_files/"
   ]
  },
  {
   "cell_type": "code",
   "execution_count": 5,
   "id": "0426126e",
   "metadata": {},
   "outputs": [
    {
     "name": "stderr",
     "output_type": "stream",
     "text": [
      "/home/jupyter-mdiaz/.local/lib/python3.9/site-packages/anndata/_core/anndata.py:183: ImplicitModificationWarning: Transforming to str index.\n",
      "  warnings.warn(\"Transforming to str index.\", ImplicitModificationWarning)\n"
     ]
    }
   ],
   "source": [
    "adata1 = sc.read_loom('02f207ae-217b-42ce-9733-c03e61541fcc.loom', var_names='gene_symbols')"
   ]
  },
  {
   "cell_type": "code",
   "execution_count": 6,
   "id": "e45b29e9",
   "metadata": {},
   "outputs": [],
   "source": [
    "adata1.var_names_make_unique()"
   ]
  },
  {
   "cell_type": "code",
   "execution_count": 7,
   "id": "88e9f937",
   "metadata": {},
   "outputs": [],
   "source": [
    "sc.pp.filter_genes(adata1, min_cells =10)\n",
    "sc.pp.filter_cells(adata1, min_genes =200)"
   ]
  },
  {
   "cell_type": "code",
   "execution_count": 8,
   "id": "fe3b138b",
   "metadata": {},
   "outputs": [
    {
     "data": {
      "text/plain": [
       "AnnData object with n_obs × n_vars = 5059 × 18023\n",
       "    obs: 'antisense_reads', 'cell_barcode_fraction_bases_above_30_mean', 'cell_barcode_fraction_bases_above_30_variance', 'cell_names', 'duplicate_reads', 'emptydrops_FDR', 'emptydrops_IsCell', 'emptydrops_Limited', 'emptydrops_LogProb', 'emptydrops_PValue', 'emptydrops_Total', 'fragments_per_molecule', 'fragments_with_single_read_evidence', 'genes_detected_multiple_observations', 'genomic_read_quality_mean', 'genomic_read_quality_variance', 'genomic_reads_fraction_bases_quality_above_30_mean', 'genomic_reads_fraction_bases_quality_above_30_variance', 'input_id', 'molecule_barcode_fraction_bases_above_30_mean', 'molecule_barcode_fraction_bases_above_30_variance', 'molecules_with_single_read_evidence', 'n_fragments', 'n_genes', 'n_mitochondrial_genes', 'n_mitochondrial_molecules', 'n_molecules', 'n_reads', 'noise_reads', 'pct_mitochondrial_molecules', 'perfect_cell_barcodes', 'perfect_molecule_barcodes', 'reads_mapped_exonic', 'reads_mapped_intergenic', 'reads_mapped_intronic', 'reads_mapped_multiple', 'reads_mapped_too_many_loci', 'reads_mapped_uniquely', 'reads_mapped_utr', 'reads_per_fragment', 'reads_unmapped', 'spliced_reads'\n",
       "    var: 'Gene', 'antisense_reads', 'duplicate_reads', 'ensembl_ids', 'fragments_per_molecule', 'fragments_with_single_read_evidence', 'gene_names', 'genomic_read_quality_mean', 'genomic_read_quality_variance', 'genomic_reads_fraction_bases_quality_above_30_mean', 'genomic_reads_fraction_bases_quality_above_30_variance', 'molecule_barcode_fraction_bases_above_30_mean', 'molecule_barcode_fraction_bases_above_30_variance', 'molecules_with_single_read_evidence', 'n_fragments', 'n_molecules', 'n_reads', 'noise_reads', 'number_cells_detected_multiple', 'number_cells_expressing', 'perfect_molecule_barcodes', 'reads_mapped_exonic', 'reads_mapped_intronic', 'reads_mapped_multiple', 'reads_mapped_uniquely', 'reads_mapped_utr', 'reads_per_fragment', 'reads_per_molecule', 'spliced_reads', 'n_cells'"
      ]
     },
     "execution_count": 8,
     "metadata": {},
     "output_type": "execute_result"
    }
   ],
   "source": [
    "adata1"
   ]
  },
  {
   "cell_type": "code",
   "execution_count": 9,
   "id": "89f77194",
   "metadata": {},
   "outputs": [],
   "source": [
    "adata1.obs = adata1.obs[['n_genes']]\n",
    "cols_to_keep = ['Gene', 'ensembl_ids', 'n_cells']\n",
    "adata1.var = adata1.var[cols_to_keep]\n",
    "\n",
    "adata1.var.rename(columns={'ensembl_ids': 'gene_ids'}, inplace=True)\n",
    "\n",
    "adata1.var.set_index('Gene', inplace=True)\n",
    "adata1.var.index.name = None"
   ]
  },
  {
   "cell_type": "code",
   "execution_count": 10,
   "id": "6861f12d",
   "metadata": {},
   "outputs": [],
   "source": [
    "adata1.var_names_make_unique()"
   ]
  },
  {
   "cell_type": "code",
   "execution_count": 11,
   "id": "f075da0f",
   "metadata": {},
   "outputs": [
    {
     "data": {
      "text/plain": [
       "AnnData object with n_obs × n_vars = 5059 × 18023\n",
       "    obs: 'n_genes'\n",
       "    var: 'gene_ids', 'n_cells'"
      ]
     },
     "execution_count": 11,
     "metadata": {},
     "output_type": "execute_result"
    }
   ],
   "source": [
    "adata1"
   ]
  },
  {
   "cell_type": "code",
   "execution_count": 12,
   "id": "7331f2f8",
   "metadata": {},
   "outputs": [
    {
     "name": "stderr",
     "output_type": "stream",
     "text": [
      "/home/jupyter-mdiaz/.local/lib/python3.9/site-packages/anndata/_core/anndata.py:183: ImplicitModificationWarning: Transforming to str index.\n",
      "  warnings.warn(\"Transforming to str index.\", ImplicitModificationWarning)\n"
     ]
    }
   ],
   "source": [
    "adata2 = sc.read_loom('2b965070-e2c5-4c26-92c9-c94483f1a00c.loom', var_names='gene_symbols')"
   ]
  },
  {
   "cell_type": "code",
   "execution_count": 13,
   "id": "1adb8788",
   "metadata": {},
   "outputs": [],
   "source": [
    "adata2.var_names_make_unique()"
   ]
  },
  {
   "cell_type": "code",
   "execution_count": 14,
   "id": "f1acd150",
   "metadata": {},
   "outputs": [],
   "source": [
    "sc.pp.filter_genes(adata2, min_cells =10)\n",
    "sc.pp.filter_cells(adata2, min_genes =200)"
   ]
  },
  {
   "cell_type": "code",
   "execution_count": 15,
   "id": "af953ef4",
   "metadata": {},
   "outputs": [
    {
     "data": {
      "text/plain": [
       "AnnData object with n_obs × n_vars = 7767 × 16945\n",
       "    obs: 'antisense_reads', 'cell_barcode_fraction_bases_above_30_mean', 'cell_barcode_fraction_bases_above_30_variance', 'cell_names', 'duplicate_reads', 'emptydrops_FDR', 'emptydrops_IsCell', 'emptydrops_Limited', 'emptydrops_LogProb', 'emptydrops_PValue', 'emptydrops_Total', 'fragments_per_molecule', 'fragments_with_single_read_evidence', 'genes_detected_multiple_observations', 'genomic_read_quality_mean', 'genomic_read_quality_variance', 'genomic_reads_fraction_bases_quality_above_30_mean', 'genomic_reads_fraction_bases_quality_above_30_variance', 'input_id', 'molecule_barcode_fraction_bases_above_30_mean', 'molecule_barcode_fraction_bases_above_30_variance', 'molecules_with_single_read_evidence', 'n_fragments', 'n_genes', 'n_mitochondrial_genes', 'n_mitochondrial_molecules', 'n_molecules', 'n_reads', 'noise_reads', 'pct_mitochondrial_molecules', 'perfect_cell_barcodes', 'perfect_molecule_barcodes', 'reads_mapped_exonic', 'reads_mapped_intergenic', 'reads_mapped_intronic', 'reads_mapped_multiple', 'reads_mapped_too_many_loci', 'reads_mapped_uniquely', 'reads_mapped_utr', 'reads_per_fragment', 'reads_unmapped', 'spliced_reads'\n",
       "    var: 'Gene', 'antisense_reads', 'duplicate_reads', 'ensembl_ids', 'fragments_per_molecule', 'fragments_with_single_read_evidence', 'gene_names', 'genomic_read_quality_mean', 'genomic_read_quality_variance', 'genomic_reads_fraction_bases_quality_above_30_mean', 'genomic_reads_fraction_bases_quality_above_30_variance', 'molecule_barcode_fraction_bases_above_30_mean', 'molecule_barcode_fraction_bases_above_30_variance', 'molecules_with_single_read_evidence', 'n_fragments', 'n_molecules', 'n_reads', 'noise_reads', 'number_cells_detected_multiple', 'number_cells_expressing', 'perfect_molecule_barcodes', 'reads_mapped_exonic', 'reads_mapped_intronic', 'reads_mapped_multiple', 'reads_mapped_uniquely', 'reads_mapped_utr', 'reads_per_fragment', 'reads_per_molecule', 'spliced_reads', 'n_cells'"
      ]
     },
     "execution_count": 15,
     "metadata": {},
     "output_type": "execute_result"
    }
   ],
   "source": [
    "adata2"
   ]
  },
  {
   "cell_type": "code",
   "execution_count": 16,
   "id": "af93bc82",
   "metadata": {},
   "outputs": [],
   "source": [
    "adata2.obs = adata2.obs[['n_genes']]\n",
    "cols_to_keep = ['Gene', 'ensembl_ids', 'n_cells']\n",
    "adata2.var = adata2.var[cols_to_keep]\n",
    "\n",
    "adata2.var.rename(columns={'ensembl_ids': 'gene_ids'}, inplace=True)\n",
    "\n",
    "adata2.var.set_index('Gene', inplace=True)\n",
    "adata2.var.index.name = None"
   ]
  },
  {
   "cell_type": "code",
   "execution_count": 17,
   "id": "55c2ba2a",
   "metadata": {},
   "outputs": [],
   "source": [
    "adata2.var_names_make_unique()"
   ]
  },
  {
   "cell_type": "code",
   "execution_count": 18,
   "id": "132332e4",
   "metadata": {},
   "outputs": [
    {
     "data": {
      "text/plain": [
       "AnnData object with n_obs × n_vars = 7767 × 16945\n",
       "    obs: 'n_genes'\n",
       "    var: 'gene_ids', 'n_cells'"
      ]
     },
     "execution_count": 18,
     "metadata": {},
     "output_type": "execute_result"
    }
   ],
   "source": [
    "adata2"
   ]
  },
  {
   "cell_type": "code",
   "execution_count": 19,
   "id": "b00489ac",
   "metadata": {},
   "outputs": [
    {
     "name": "stderr",
     "output_type": "stream",
     "text": [
      "/home/jupyter-mdiaz/.local/lib/python3.9/site-packages/anndata/_core/anndata.py:183: ImplicitModificationWarning: Transforming to str index.\n",
      "  warnings.warn(\"Transforming to str index.\", ImplicitModificationWarning)\n"
     ]
    }
   ],
   "source": [
    "adata3 = sc.read_loom('3f9058b9-4243-4ef1-a345-857a5b9ff78e.loom', var_names='gene_symbols')"
   ]
  },
  {
   "cell_type": "code",
   "execution_count": 20,
   "id": "097066cf",
   "metadata": {},
   "outputs": [],
   "source": [
    "adata3.var_names_make_unique()"
   ]
  },
  {
   "cell_type": "code",
   "execution_count": 21,
   "id": "a4b2a357",
   "metadata": {},
   "outputs": [],
   "source": [
    "sc.pp.filter_genes(adata3, min_cells =10)\n",
    "sc.pp.filter_cells(adata3, min_genes =200)"
   ]
  },
  {
   "cell_type": "code",
   "execution_count": 22,
   "id": "346b5d6b",
   "metadata": {},
   "outputs": [
    {
     "data": {
      "text/plain": [
       "AnnData object with n_obs × n_vars = 2760 × 16425\n",
       "    obs: 'antisense_reads', 'cell_barcode_fraction_bases_above_30_mean', 'cell_barcode_fraction_bases_above_30_variance', 'cell_names', 'duplicate_reads', 'emptydrops_FDR', 'emptydrops_IsCell', 'emptydrops_Limited', 'emptydrops_LogProb', 'emptydrops_PValue', 'emptydrops_Total', 'fragments_per_molecule', 'fragments_with_single_read_evidence', 'genes_detected_multiple_observations', 'genomic_read_quality_mean', 'genomic_read_quality_variance', 'genomic_reads_fraction_bases_quality_above_30_mean', 'genomic_reads_fraction_bases_quality_above_30_variance', 'input_id', 'molecule_barcode_fraction_bases_above_30_mean', 'molecule_barcode_fraction_bases_above_30_variance', 'molecules_with_single_read_evidence', 'n_fragments', 'n_genes', 'n_mitochondrial_genes', 'n_mitochondrial_molecules', 'n_molecules', 'n_reads', 'noise_reads', 'pct_mitochondrial_molecules', 'perfect_cell_barcodes', 'perfect_molecule_barcodes', 'reads_mapped_exonic', 'reads_mapped_intergenic', 'reads_mapped_intronic', 'reads_mapped_multiple', 'reads_mapped_too_many_loci', 'reads_mapped_uniquely', 'reads_mapped_utr', 'reads_per_fragment', 'reads_unmapped', 'spliced_reads'\n",
       "    var: 'Gene', 'antisense_reads', 'duplicate_reads', 'ensembl_ids', 'fragments_per_molecule', 'fragments_with_single_read_evidence', 'gene_names', 'genomic_read_quality_mean', 'genomic_read_quality_variance', 'genomic_reads_fraction_bases_quality_above_30_mean', 'genomic_reads_fraction_bases_quality_above_30_variance', 'molecule_barcode_fraction_bases_above_30_mean', 'molecule_barcode_fraction_bases_above_30_variance', 'molecules_with_single_read_evidence', 'n_fragments', 'n_molecules', 'n_reads', 'noise_reads', 'number_cells_detected_multiple', 'number_cells_expressing', 'perfect_molecule_barcodes', 'reads_mapped_exonic', 'reads_mapped_intronic', 'reads_mapped_multiple', 'reads_mapped_uniquely', 'reads_mapped_utr', 'reads_per_fragment', 'reads_per_molecule', 'spliced_reads', 'n_cells'"
      ]
     },
     "execution_count": 22,
     "metadata": {},
     "output_type": "execute_result"
    }
   ],
   "source": [
    "adata3"
   ]
  },
  {
   "cell_type": "code",
   "execution_count": 23,
   "id": "1782f506",
   "metadata": {},
   "outputs": [],
   "source": [
    "adata3.obs = adata3.obs[['n_genes']]\n",
    "cols_to_keep = ['Gene', 'ensembl_ids', 'n_cells']\n",
    "adata3.var = adata3.var[cols_to_keep]\n",
    "\n",
    "adata3.var.rename(columns={'ensembl_ids': 'gene_ids'}, inplace=True)\n",
    "\n",
    "adata3.var.set_index('Gene', inplace=True)\n",
    "adata3.var.index.name = None"
   ]
  },
  {
   "cell_type": "code",
   "execution_count": 24,
   "id": "de2dbce3",
   "metadata": {},
   "outputs": [],
   "source": [
    "adata3.var_names_make_unique()"
   ]
  },
  {
   "cell_type": "code",
   "execution_count": 25,
   "id": "66861de6",
   "metadata": {},
   "outputs": [
    {
     "data": {
      "text/plain": [
       "AnnData object with n_obs × n_vars = 2760 × 16425\n",
       "    obs: 'n_genes'\n",
       "    var: 'gene_ids', 'n_cells'"
      ]
     },
     "execution_count": 25,
     "metadata": {},
     "output_type": "execute_result"
    }
   ],
   "source": [
    "adata3"
   ]
  },
  {
   "cell_type": "code",
   "execution_count": 26,
   "id": "aed4f284",
   "metadata": {},
   "outputs": [
    {
     "name": "stderr",
     "output_type": "stream",
     "text": [
      "/home/jupyter-mdiaz/.local/lib/python3.9/site-packages/anndata/_core/anndata.py:183: ImplicitModificationWarning: Transforming to str index.\n",
      "  warnings.warn(\"Transforming to str index.\", ImplicitModificationWarning)\n"
     ]
    }
   ],
   "source": [
    "adata4 = sc.read_loom('42998245-4c46-488e-ad04-14550074d6d4.loom', var_names='gene_symbols')"
   ]
  },
  {
   "cell_type": "code",
   "execution_count": 27,
   "id": "1ec5f823",
   "metadata": {},
   "outputs": [],
   "source": [
    "adata4.var_names_make_unique()"
   ]
  },
  {
   "cell_type": "code",
   "execution_count": 28,
   "id": "b30a077f",
   "metadata": {},
   "outputs": [],
   "source": [
    "sc.pp.filter_genes(adata4, min_cells =10)\n",
    "sc.pp.filter_cells(adata4, min_genes =200)"
   ]
  },
  {
   "cell_type": "code",
   "execution_count": 29,
   "id": "33fc9397",
   "metadata": {},
   "outputs": [
    {
     "data": {
      "text/plain": [
       "AnnData object with n_obs × n_vars = 3122 × 16322\n",
       "    obs: 'antisense_reads', 'cell_barcode_fraction_bases_above_30_mean', 'cell_barcode_fraction_bases_above_30_variance', 'cell_names', 'duplicate_reads', 'emptydrops_FDR', 'emptydrops_IsCell', 'emptydrops_Limited', 'emptydrops_LogProb', 'emptydrops_PValue', 'emptydrops_Total', 'fragments_per_molecule', 'fragments_with_single_read_evidence', 'genes_detected_multiple_observations', 'genomic_read_quality_mean', 'genomic_read_quality_variance', 'genomic_reads_fraction_bases_quality_above_30_mean', 'genomic_reads_fraction_bases_quality_above_30_variance', 'input_id', 'molecule_barcode_fraction_bases_above_30_mean', 'molecule_barcode_fraction_bases_above_30_variance', 'molecules_with_single_read_evidence', 'n_fragments', 'n_genes', 'n_mitochondrial_genes', 'n_mitochondrial_molecules', 'n_molecules', 'n_reads', 'noise_reads', 'pct_mitochondrial_molecules', 'perfect_cell_barcodes', 'perfect_molecule_barcodes', 'reads_mapped_exonic', 'reads_mapped_intergenic', 'reads_mapped_intronic', 'reads_mapped_multiple', 'reads_mapped_too_many_loci', 'reads_mapped_uniquely', 'reads_mapped_utr', 'reads_per_fragment', 'reads_unmapped', 'spliced_reads'\n",
       "    var: 'Gene', 'antisense_reads', 'duplicate_reads', 'ensembl_ids', 'fragments_per_molecule', 'fragments_with_single_read_evidence', 'gene_names', 'genomic_read_quality_mean', 'genomic_read_quality_variance', 'genomic_reads_fraction_bases_quality_above_30_mean', 'genomic_reads_fraction_bases_quality_above_30_variance', 'molecule_barcode_fraction_bases_above_30_mean', 'molecule_barcode_fraction_bases_above_30_variance', 'molecules_with_single_read_evidence', 'n_fragments', 'n_molecules', 'n_reads', 'noise_reads', 'number_cells_detected_multiple', 'number_cells_expressing', 'perfect_molecule_barcodes', 'reads_mapped_exonic', 'reads_mapped_intronic', 'reads_mapped_multiple', 'reads_mapped_uniquely', 'reads_mapped_utr', 'reads_per_fragment', 'reads_per_molecule', 'spliced_reads', 'n_cells'"
      ]
     },
     "execution_count": 29,
     "metadata": {},
     "output_type": "execute_result"
    }
   ],
   "source": [
    "adata4"
   ]
  },
  {
   "cell_type": "code",
   "execution_count": 30,
   "id": "b564d5f9",
   "metadata": {},
   "outputs": [],
   "source": [
    "adata4.obs = adata4.obs[['n_genes']]\n",
    "cols_to_keep = ['Gene', 'ensembl_ids', 'n_cells']\n",
    "adata4.var = adata4.var[cols_to_keep]\n",
    "\n",
    "adata4.var.rename(columns={'ensembl_ids': 'gene_ids'}, inplace=True)\n",
    "\n",
    "adata4.var.set_index('Gene', inplace=True)\n",
    "adata4.var.index.name = None"
   ]
  },
  {
   "cell_type": "code",
   "execution_count": 31,
   "id": "ddae944e",
   "metadata": {},
   "outputs": [],
   "source": [
    "adata3.var_names_make_unique()"
   ]
  },
  {
   "cell_type": "code",
   "execution_count": 32,
   "id": "d56ab99b",
   "metadata": {},
   "outputs": [
    {
     "data": {
      "text/plain": [
       "AnnData object with n_obs × n_vars = 3122 × 16322\n",
       "    obs: 'n_genes'\n",
       "    var: 'gene_ids', 'n_cells'"
      ]
     },
     "execution_count": 32,
     "metadata": {},
     "output_type": "execute_result"
    }
   ],
   "source": [
    "adata4"
   ]
  },
  {
   "cell_type": "code",
   "execution_count": 38,
   "id": "d7892b43",
   "metadata": {
    "scrolled": false
   },
   "outputs": [
    {
     "name": "stderr",
     "output_type": "stream",
     "text": [
      "/home/jupyter-mdiaz/.local/lib/python3.9/site-packages/anndata/_core/anndata.py:183: ImplicitModificationWarning: Transforming to str index.\n",
      "  warnings.warn(\"Transforming to str index.\", ImplicitModificationWarning)\n"
     ]
    }
   ],
   "source": [
    "adata5 = sc.read_loom('d1782f60-75d3-41a2-a6d5-8218daab2e31.loom', var_names='gene_symbols')"
   ]
  },
  {
   "cell_type": "code",
   "execution_count": 39,
   "id": "ec4e1649",
   "metadata": {},
   "outputs": [],
   "source": [
    "adata5.var_names_make_unique()"
   ]
  },
  {
   "cell_type": "code",
   "execution_count": 41,
   "id": "2a5b2041",
   "metadata": {},
   "outputs": [],
   "source": [
    "sc.pp.filter_genes(adata5, min_cells =10)\n",
    "sc.pp.filter_cells(adata5, min_genes =200)"
   ]
  },
  {
   "cell_type": "code",
   "execution_count": 42,
   "id": "d4467de6",
   "metadata": {},
   "outputs": [
    {
     "data": {
      "text/plain": [
       "AnnData object with n_obs × n_vars = 8179 × 17235\n",
       "    obs: 'antisense_reads', 'cell_barcode_fraction_bases_above_30_mean', 'cell_barcode_fraction_bases_above_30_variance', 'cell_names', 'duplicate_reads', 'emptydrops_FDR', 'emptydrops_IsCell', 'emptydrops_Limited', 'emptydrops_LogProb', 'emptydrops_PValue', 'emptydrops_Total', 'fragments_per_molecule', 'fragments_with_single_read_evidence', 'genes_detected_multiple_observations', 'genomic_read_quality_mean', 'genomic_read_quality_variance', 'genomic_reads_fraction_bases_quality_above_30_mean', 'genomic_reads_fraction_bases_quality_above_30_variance', 'input_id', 'molecule_barcode_fraction_bases_above_30_mean', 'molecule_barcode_fraction_bases_above_30_variance', 'molecules_with_single_read_evidence', 'n_fragments', 'n_genes', 'n_mitochondrial_genes', 'n_mitochondrial_molecules', 'n_molecules', 'n_reads', 'noise_reads', 'pct_mitochondrial_molecules', 'perfect_cell_barcodes', 'perfect_molecule_barcodes', 'reads_mapped_exonic', 'reads_mapped_intergenic', 'reads_mapped_intronic', 'reads_mapped_multiple', 'reads_mapped_too_many_loci', 'reads_mapped_uniquely', 'reads_mapped_utr', 'reads_per_fragment', 'reads_unmapped', 'spliced_reads'\n",
       "    var: 'Gene', 'antisense_reads', 'duplicate_reads', 'ensembl_ids', 'fragments_per_molecule', 'fragments_with_single_read_evidence', 'gene_names', 'genomic_read_quality_mean', 'genomic_read_quality_variance', 'genomic_reads_fraction_bases_quality_above_30_mean', 'genomic_reads_fraction_bases_quality_above_30_variance', 'molecule_barcode_fraction_bases_above_30_mean', 'molecule_barcode_fraction_bases_above_30_variance', 'molecules_with_single_read_evidence', 'n_fragments', 'n_molecules', 'n_reads', 'noise_reads', 'number_cells_detected_multiple', 'number_cells_expressing', 'perfect_molecule_barcodes', 'reads_mapped_exonic', 'reads_mapped_intronic', 'reads_mapped_multiple', 'reads_mapped_uniquely', 'reads_mapped_utr', 'reads_per_fragment', 'reads_per_molecule', 'spliced_reads', 'n_cells'"
      ]
     },
     "execution_count": 42,
     "metadata": {},
     "output_type": "execute_result"
    }
   ],
   "source": [
    "adata5"
   ]
  },
  {
   "cell_type": "code",
   "execution_count": 43,
   "id": "49b55b56",
   "metadata": {},
   "outputs": [],
   "source": [
    "adata5.obs = adata5.obs[['n_genes']]\n",
    "cols_to_keep = ['Gene', 'ensembl_ids', 'n_cells']\n",
    "adata5.var = adata5.var[cols_to_keep]\n",
    "\n",
    "adata5.var.rename(columns={'ensembl_ids': 'gene_ids'}, inplace=True)\n",
    "\n",
    "adata5.var.set_index('Gene', inplace=True)\n",
    "adata5.var.index.name = None"
   ]
  },
  {
   "cell_type": "code",
   "execution_count": 44,
   "id": "0cc388cd",
   "metadata": {},
   "outputs": [],
   "source": [
    "adata5.var_names_make_unique()"
   ]
  },
  {
   "cell_type": "code",
   "execution_count": 45,
   "id": "072c773f",
   "metadata": {},
   "outputs": [
    {
     "data": {
      "text/plain": [
       "AnnData object with n_obs × n_vars = 8179 × 17235\n",
       "    obs: 'n_genes'\n",
       "    var: 'gene_ids', 'n_cells'"
      ]
     },
     "execution_count": 45,
     "metadata": {},
     "output_type": "execute_result"
    }
   ],
   "source": [
    "adata5"
   ]
  },
  {
   "cell_type": "code",
   "execution_count": null,
   "id": "0b958c11",
   "metadata": {},
   "outputs": [],
   "source": []
  },
  {
   "cell_type": "markdown",
   "id": "9c474537",
   "metadata": {},
   "source": [
    "# Loading Hepatoblastoma samples"
   ]
  },
  {
   "cell_type": "code",
   "execution_count": 46,
   "id": "2190a336",
   "metadata": {},
   "outputs": [
    {
     "name": "stdout",
     "output_type": "stream",
     "text": [
      "/datos/home/jupyter-mdiaz/experimento_3/COMPLETO/hb_filtered_files\n"
     ]
    }
   ],
   "source": [
    "%cd /datos/home/jupyter-mdiaz/experimento_3/COMPLETO/hb_filtered_files/"
   ]
  },
  {
   "cell_type": "code",
   "execution_count": 47,
   "id": "3b4fd47b",
   "metadata": {},
   "outputs": [],
   "source": [
    "adata6 = sc.read_10x_mtx('HB17_background_filtered_feature_bc_matrix', var_names='gene_symbols')"
   ]
  },
  {
   "cell_type": "code",
   "execution_count": 48,
   "id": "0c537b5f",
   "metadata": {},
   "outputs": [],
   "source": [
    "adata6.var_names_make_unique()"
   ]
  },
  {
   "cell_type": "code",
   "execution_count": 49,
   "id": "acb41ccc",
   "metadata": {},
   "outputs": [],
   "source": [
    "sc.pp.filter_genes(adata6, min_cells =10)\n",
    "sc.pp.filter_cells(adata6, min_genes =200)"
   ]
  },
  {
   "cell_type": "code",
   "execution_count": 50,
   "id": "3d3a8140",
   "metadata": {},
   "outputs": [
    {
     "data": {
      "text/plain": [
       "AnnData object with n_obs × n_vars = 11197 × 16895\n",
       "    obs: 'n_genes'\n",
       "    var: 'gene_ids', 'n_cells'"
      ]
     },
     "execution_count": 50,
     "metadata": {},
     "output_type": "execute_result"
    }
   ],
   "source": [
    "adata6.var = adata6.var.drop(columns=['feature_types'])\n",
    "adata6.var_names_make_unique()\n",
    "adata6"
   ]
  },
  {
   "cell_type": "code",
   "execution_count": 51,
   "id": "fd411210",
   "metadata": {},
   "outputs": [],
   "source": [
    "adata7 = sc.read_10x_mtx('HB53_background_filtered_feature_bc_matrix', var_names='gene_symbols')"
   ]
  },
  {
   "cell_type": "code",
   "execution_count": 52,
   "id": "278091bd",
   "metadata": {},
   "outputs": [],
   "source": [
    "adata7.var_names_make_unique()"
   ]
  },
  {
   "cell_type": "code",
   "execution_count": 53,
   "id": "39a9361a",
   "metadata": {},
   "outputs": [],
   "source": [
    "sc.pp.filter_genes(adata7, min_cells =10)\n",
    "sc.pp.filter_cells(adata7, min_genes =200)"
   ]
  },
  {
   "cell_type": "code",
   "execution_count": 54,
   "id": "3cc29c8c",
   "metadata": {},
   "outputs": [
    {
     "data": {
      "text/plain": [
       "AnnData object with n_obs × n_vars = 8540 × 22277\n",
       "    obs: 'n_genes'\n",
       "    var: 'gene_ids', 'n_cells'"
      ]
     },
     "execution_count": 54,
     "metadata": {},
     "output_type": "execute_result"
    }
   ],
   "source": [
    "adata7.var = adata7.var.drop(columns=['feature_types'])\n",
    "adata7.var_names_make_unique()\n",
    "adata7"
   ]
  },
  {
   "cell_type": "code",
   "execution_count": 55,
   "id": "0273451d",
   "metadata": {},
   "outputs": [],
   "source": [
    "adata8 = sc.read_10x_mtx('HB17_tumor_filtered_feature_bc_matrix', var_names='gene_symbols')"
   ]
  },
  {
   "cell_type": "code",
   "execution_count": 56,
   "id": "4afd0864",
   "metadata": {},
   "outputs": [],
   "source": [
    "adata8.var_names_make_unique()"
   ]
  },
  {
   "cell_type": "code",
   "execution_count": 57,
   "id": "5fc4f697",
   "metadata": {},
   "outputs": [],
   "source": [
    "sc.pp.filter_genes(adata8, min_cells =10)\n",
    "sc.pp.filter_cells(adata8, min_genes =200)"
   ]
  },
  {
   "cell_type": "code",
   "execution_count": 58,
   "id": "7f6c43e9",
   "metadata": {},
   "outputs": [
    {
     "data": {
      "text/plain": [
       "AnnData object with n_obs × n_vars = 7995 × 22112\n",
       "    obs: 'n_genes'\n",
       "    var: 'gene_ids', 'n_cells'"
      ]
     },
     "execution_count": 58,
     "metadata": {},
     "output_type": "execute_result"
    }
   ],
   "source": [
    "adata8.var = adata8.var.drop(columns=['feature_types'])\n",
    "adata8.var_names_make_unique()\n",
    "adata8"
   ]
  },
  {
   "cell_type": "code",
   "execution_count": 59,
   "id": "90af8602",
   "metadata": {},
   "outputs": [],
   "source": [
    "adata9 = sc.read_10x_mtx('HB30_tumor_filtered_feature_bc_matrix', var_names='gene_symbols')"
   ]
  },
  {
   "cell_type": "code",
   "execution_count": 60,
   "id": "a03a5fe7",
   "metadata": {},
   "outputs": [],
   "source": [
    "adata9.var_names_make_unique()"
   ]
  },
  {
   "cell_type": "code",
   "execution_count": 61,
   "id": "d4201064",
   "metadata": {},
   "outputs": [],
   "source": [
    "sc.pp.filter_genes(adata9, min_cells =10)\n",
    "sc.pp.filter_cells(adata9, min_genes =200)"
   ]
  },
  {
   "cell_type": "code",
   "execution_count": 62,
   "id": "2395a6c4",
   "metadata": {},
   "outputs": [
    {
     "data": {
      "text/plain": [
       "AnnData object with n_obs × n_vars = 19042 × 24433\n",
       "    obs: 'n_genes'\n",
       "    var: 'gene_ids', 'n_cells'"
      ]
     },
     "execution_count": 62,
     "metadata": {},
     "output_type": "execute_result"
    }
   ],
   "source": [
    "adata9.var = adata9.var.drop(columns=['feature_types'])\n",
    "adata9.var_names_make_unique()\n",
    "adata9"
   ]
  },
  {
   "cell_type": "code",
   "execution_count": 63,
   "id": "8b1b450a",
   "metadata": {},
   "outputs": [],
   "source": [
    "adata10 = sc.read_10x_mtx('HB53_tumor_filtered_feature_bc_matrix', var_names='gene_symbols')"
   ]
  },
  {
   "cell_type": "code",
   "execution_count": 64,
   "id": "0cd101a3",
   "metadata": {},
   "outputs": [],
   "source": [
    "adata10.var_names_make_unique()"
   ]
  },
  {
   "cell_type": "code",
   "execution_count": 65,
   "id": "ca384728",
   "metadata": {},
   "outputs": [],
   "source": [
    "sc.pp.filter_genes(adata10, min_cells =10)\n",
    "sc.pp.filter_cells(adata10, min_genes =200)"
   ]
  },
  {
   "cell_type": "code",
   "execution_count": 66,
   "id": "83ad659b",
   "metadata": {},
   "outputs": [
    {
     "data": {
      "text/plain": [
       "AnnData object with n_obs × n_vars = 12832 × 24324\n",
       "    obs: 'n_genes'\n",
       "    var: 'gene_ids', 'n_cells'"
      ]
     },
     "execution_count": 66,
     "metadata": {},
     "output_type": "execute_result"
    }
   ],
   "source": [
    "adata10.var = adata10.var.drop(columns=['feature_types'])\n",
    "adata10.var_names_make_unique()\n",
    "adata10"
   ]
  },
  {
   "cell_type": "code",
   "execution_count": 67,
   "id": "efac2146",
   "metadata": {},
   "outputs": [],
   "source": [
    "adata11 = sc.read_10x_mtx('HB17_PDX_filtered_feature_bc_matrix', var_names='gene_symbols')"
   ]
  },
  {
   "cell_type": "code",
   "execution_count": 68,
   "id": "0dfc393b",
   "metadata": {},
   "outputs": [],
   "source": [
    "adata11.var_names_make_unique()"
   ]
  },
  {
   "cell_type": "code",
   "execution_count": 69,
   "id": "1e2a1982",
   "metadata": {},
   "outputs": [],
   "source": [
    "sc.pp.filter_genes(adata11, min_cells =10)\n",
    "sc.pp.filter_cells(adata11, min_genes =200)"
   ]
  },
  {
   "cell_type": "code",
   "execution_count": 70,
   "id": "b38e8288",
   "metadata": {},
   "outputs": [
    {
     "data": {
      "text/plain": [
       "AnnData object with n_obs × n_vars = 8027 × 22405\n",
       "    obs: 'n_genes'\n",
       "    var: 'gene_ids', 'n_cells'"
      ]
     },
     "execution_count": 70,
     "metadata": {},
     "output_type": "execute_result"
    }
   ],
   "source": [
    "adata11.var = adata11.var.drop(columns=['feature_types'])\n",
    "adata11.var_names_make_unique()\n",
    "adata11"
   ]
  },
  {
   "cell_type": "code",
   "execution_count": 71,
   "id": "496d5a96",
   "metadata": {},
   "outputs": [],
   "source": [
    "adata12 = sc.read_10x_mtx('HB53_tumor_filtered_feature_bc_matrix', var_names='gene_symbols')"
   ]
  },
  {
   "cell_type": "code",
   "execution_count": 72,
   "id": "cef51192",
   "metadata": {},
   "outputs": [],
   "source": [
    "adata12.var_names_make_unique()"
   ]
  },
  {
   "cell_type": "code",
   "execution_count": 73,
   "id": "3c1c00ca",
   "metadata": {},
   "outputs": [],
   "source": [
    "sc.pp.filter_genes(adata12, min_cells =10)\n",
    "sc.pp.filter_cells(adata12, min_genes =200)"
   ]
  },
  {
   "cell_type": "code",
   "execution_count": 74,
   "id": "5d362006",
   "metadata": {},
   "outputs": [
    {
     "data": {
      "text/plain": [
       "AnnData object with n_obs × n_vars = 12832 × 24324\n",
       "    obs: 'n_genes'\n",
       "    var: 'gene_ids', 'n_cells'"
      ]
     },
     "execution_count": 74,
     "metadata": {},
     "output_type": "execute_result"
    }
   ],
   "source": [
    "adata12.var = adata12.var.drop(columns=['feature_types'])\n",
    "adata12.var_names_make_unique()\n",
    "adata12"
   ]
  },
  {
   "cell_type": "code",
   "execution_count": null,
   "id": "db4a5e49",
   "metadata": {},
   "outputs": [],
   "source": []
  },
  {
   "cell_type": "markdown",
   "id": "f06b1acd",
   "metadata": {},
   "source": [
    "# Creating h5ad files "
   ]
  },
  {
   "cell_type": "code",
   "execution_count": 75,
   "id": "123b204f",
   "metadata": {},
   "outputs": [
    {
     "name": "stdout",
     "output_type": "stream",
     "text": [
      "/datos/home/jupyter-mdiaz/scRNAseq_pipeline/initial_h5ad\n"
     ]
    }
   ],
   "source": [
    "%cd '/datos/home/jupyter-mdiaz/scRNAseq_pipeline/initial_h5ad'"
   ]
  },
  {
   "cell_type": "code",
   "execution_count": 76,
   "id": "6b267016",
   "metadata": {},
   "outputs": [],
   "source": [
    "adata1.write_h5ad('control1')"
   ]
  },
  {
   "cell_type": "code",
   "execution_count": 77,
   "id": "b5b34d75",
   "metadata": {},
   "outputs": [],
   "source": [
    "adata2.write_h5ad('control2')"
   ]
  },
  {
   "cell_type": "code",
   "execution_count": 78,
   "id": "74b22cd2",
   "metadata": {},
   "outputs": [],
   "source": [
    "adata3.write_h5ad('control3')"
   ]
  },
  {
   "cell_type": "code",
   "execution_count": 79,
   "id": "fcde1eac",
   "metadata": {},
   "outputs": [],
   "source": [
    "adata4.write_h5ad('control4')"
   ]
  },
  {
   "cell_type": "code",
   "execution_count": 80,
   "id": "aa8faf02",
   "metadata": {},
   "outputs": [],
   "source": [
    "adata5.write_h5ad('control5')"
   ]
  },
  {
   "cell_type": "code",
   "execution_count": 81,
   "id": "6cc5ccef",
   "metadata": {},
   "outputs": [],
   "source": [
    "adata6.write_h5ad('control6')"
   ]
  },
  {
   "cell_type": "code",
   "execution_count": 82,
   "id": "1afcf47d",
   "metadata": {},
   "outputs": [],
   "source": [
    "adata7.write_h5ad('control7')"
   ]
  },
  {
   "cell_type": "code",
   "execution_count": 83,
   "id": "a370c3d7",
   "metadata": {},
   "outputs": [],
   "source": [
    "adata8.write_h5ad('tumor_s1')"
   ]
  },
  {
   "cell_type": "code",
   "execution_count": 84,
   "id": "a9423b2a",
   "metadata": {},
   "outputs": [],
   "source": [
    "adata9.write_h5ad('tumor_s2')"
   ]
  },
  {
   "cell_type": "code",
   "execution_count": 85,
   "id": "388d2977",
   "metadata": {},
   "outputs": [],
   "source": [
    "adata10.write_h5ad('tumor_s3')"
   ]
  },
  {
   "cell_type": "code",
   "execution_count": 86,
   "id": "76aaf731",
   "metadata": {},
   "outputs": [],
   "source": [
    "adata11.write_h5ad('tumor_s4')"
   ]
  },
  {
   "cell_type": "code",
   "execution_count": 87,
   "id": "2e3c88fa",
   "metadata": {},
   "outputs": [],
   "source": [
    "adata12.write_h5ad('tumor_s5')"
   ]
  },
  {
   "cell_type": "code",
   "execution_count": null,
   "id": "8eeb2a71",
   "metadata": {},
   "outputs": [],
   "source": []
  },
  {
   "cell_type": "code",
   "execution_count": null,
   "id": "d424512f",
   "metadata": {},
   "outputs": [],
   "source": []
  }
 ],
 "metadata": {
  "kernelspec": {
   "display_name": "Python 3 (EpiTeam)",
   "language": "python",
   "name": "python3"
  },
  "language_info": {
   "codemirror_mode": {
    "name": "ipython",
    "version": 3
   },
   "file_extension": ".py",
   "mimetype": "text/x-python",
   "name": "python",
   "nbconvert_exporter": "python",
   "pygments_lexer": "ipython3",
   "version": "3.9.7"
  }
 },
 "nbformat": 4,
 "nbformat_minor": 5
}
