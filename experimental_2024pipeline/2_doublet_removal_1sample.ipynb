{
 "cells": [
  {
   "cell_type": "markdown",
   "id": "fc98d836",
   "metadata": {},
   "source": [
    "# Disclaimer"
   ]
  },
  {
   "cell_type": "markdown",
   "id": "d2087495",
   "metadata": {},
   "source": [
    "During the process of isolating single cells for analysis, it's possible to accidentally capture two cells instead of one. When this happens, we call it a \"doublet.\" Doublets can complicate the analysis because they don't represent a single cell's behavior; instead, they are a mix of two different cells.\n",
    "\n",
    "If doublets aren't removed, they can create misleading results. For example, if you're looking for unique cell types, a doublet might show characteristics of two different cell types, causing confusion. It can also affect downstream analyses, like clustering or identifying gene expression patterns.\n",
    "\n",
    "That's why \"doublet removal\" is an essential step in single-cell analysis pipelines. It involves identifying and removing these doublets to ensure that the analysis focuses on true single-cell data. There are various methods to detect doublets, such as:\n",
    "\n",
    "- **Statistical Analysis:** These methods look for outliers or unusual patterns in the data that suggest a doublet.\n",
    "- **Machine Learning Models:** Some algorithms are trained to recognize patterns indicative of doublets.\n",
    "- **Experimental Techniques:** In some cases, experimental methods can be used to separate single cells more accurately."
   ]
  },
  {
   "cell_type": "markdown",
   "id": "f5e3976e",
   "metadata": {},
   "source": [
    "Here we use a **machine learning model** called **scVI**."
   ]
  },
  {
   "cell_type": "markdown",
   "id": "b9d7dfad",
   "metadata": {},
   "source": [
    "### scVI\n",
    "\n",
    "scVI (Single-cell Variational Inference) is a tool designed for analyzing single-cell RNA sequencing (scRNA-seq) data. scVI use a function of deep learning known as \"variational inference,\" to model complex data in an efficient and scalable way.\n",
    "\n",
    "Here we use the **SOLO function** of scVI \n",
    "\n",
    "SOLO is a method developed to identify and remove doublets in single-cell data. It is built on top of the broader scVI framework, leveraging the same underlying principles of deep learning and probabilistic modeling. The key idea behind SOLO is to use a model-based approach to detect doublets with high accuracy and efficiency.\n",
    "\n",
    "SOLO operates by training a variational autoencoder, a type of neural network, to learn patterns in single-cell data. The model is trained on data known to consist solely of single cells, allowing it to learn typical single-cell patterns. Once trained, the model can then be used to detect anomalies or patterns indicative of doublets in new datasets.\n"
   ]
  },
  {
   "cell_type": "code",
   "execution_count": 1,
   "id": "1ef67744",
   "metadata": {},
   "outputs": [
    {
     "name": "stderr",
     "output_type": "stream",
     "text": [
      "/home/jupyter-mdiaz/.local/lib/python3.9/site-packages/scvi/_settings.py:63: UserWarning: Since v1.0.0, scvi-tools no longer uses a random seed by default. Run `scvi.settings.seed = 0` to reproduce results from previous versions.\n",
      "  self.seed = seed\n",
      "/home/jupyter-mdiaz/.local/lib/python3.9/site-packages/scvi/_settings.py:70: UserWarning: Setting `dl_pin_memory_gpu_training` is deprecated in v1.0 and will be removed in v1.1. Please pass in `pin_memory` to the data loaders instead.\n",
      "  self.dl_pin_memory_gpu_training = (\n"
     ]
    }
   ],
   "source": [
    "#For downloads\n",
    "import gdown, os, gzip, shutil\n",
    "\n",
    "# Basic data management and plotting\n",
    "import pandas as pd\n",
    "import numpy as np\n",
    "from scipy import sparse\n",
    "import matplotlib.pyplot as plt\n",
    "import os\n",
    " \n",
    "# Scanpy fundamentals\n",
    "import anndata as ad\n",
    "import scanpy as sc\n",
    "import seaborn as sb\n",
    "\n",
    "# sc.settings.set_figure_params(dpi=200, frameon=False)\n",
    "sc.set_figure_params(figsize=(6, 6))\n",
    "import scvi"
   ]
  },
  {
   "cell_type": "code",
   "execution_count": 8,
   "id": "511d53aa",
   "metadata": {
    "scrolled": true
   },
   "outputs": [
    {
     "name": "stdout",
     "output_type": "stream",
     "text": [
      "/datos/home/jupyter-mdiaz/scRNAseq_pipeline/initial_h5ad\n"
     ]
    }
   ],
   "source": [
    "%cd '/datos/home/jupyter-mdiaz/scRNAseq_pipeline/initial_h5ad/'"
   ]
  },
  {
   "cell_type": "code",
   "execution_count": 9,
   "id": "db39d506",
   "metadata": {},
   "outputs": [
    {
     "data": {
      "text/plain": [
       "AnnData object with n_obs × n_vars = 5059 × 18023\n",
       "    obs: 'n_genes'\n",
       "    var: 'gene_ids', 'n_cells'"
      ]
     },
     "execution_count": 9,
     "metadata": {},
     "output_type": "execute_result"
    }
   ],
   "source": [
    "adata = sc.read_h5ad('control1')\n",
    "adata"
   ]
  },
  {
   "cell_type": "markdown",
   "id": "fa7879e1",
   "metadata": {},
   "source": [
    "# Doublet removal"
   ]
  },
  {
   "cell_type": "markdown",
   "id": "6585cb19",
   "metadata": {},
   "source": [
    "We load 1 sample. It took ~10 minutos to run with the SOLO model.\n",
    "\n",
    "**Note**: Time will depend on whether you have a GPU working while your data is being analyzed. If you are using a GPU, the time will be shorter."
   ]
  },
  {
   "cell_type": "code",
   "execution_count": 10,
   "id": "5c4a55aa",
   "metadata": {},
   "outputs": [
    {
     "data": {
      "text/plain": [
       "AnnData object with n_obs × n_vars = 5059 × 18023\n",
       "    obs: 'n_genes'\n",
       "    var: 'gene_ids', 'n_cells'"
      ]
     },
     "execution_count": 10,
     "metadata": {},
     "output_type": "execute_result"
    }
   ],
   "source": [
    "adata"
   ]
  },
  {
   "cell_type": "code",
   "execution_count": 11,
   "id": "0b848e4b",
   "metadata": {},
   "outputs": [],
   "source": [
    "sc.pp.filter_genes(adata, min_cells = 10)"
   ]
  },
  {
   "cell_type": "code",
   "execution_count": 12,
   "id": "c4c461d9",
   "metadata": {},
   "outputs": [],
   "source": [
    "#sc.pp.highly_variable_genes(adata, n_top_genes = 2000, subset = True, flavor = 'seurat_v3')"
   ]
  },
  {
   "cell_type": "code",
   "execution_count": 13,
   "id": "53b4429a",
   "metadata": {},
   "outputs": [
    {
     "name": "stderr",
     "output_type": "stream",
     "text": [
      "/opt/tljh/user/lib/python3.9/abc.py:119: FutureWarning: SparseDataset is deprecated and will be removed in late 2024. It has been replaced by the public classes CSRDataset and CSCDataset.\n",
      "\n",
      "For instance checks, use `isinstance(X, (anndata.experimental.CSRDataset, anndata.experimental.CSCDataset))` instead.\n",
      "\n",
      "For creation, use `anndata.experimental.sparse_dataset(X)` instead.\n",
      "\n",
      "  return _abc_instancecheck(cls, instance)\n",
      "An NVIDIA GPU may be present on this machine, but a CUDA-enabled jaxlib is not installed. Falling back to cpu.\n",
      "/home/jupyter-mdiaz/.local/lib/python3.9/site-packages/torch/cuda/__init__.py:628: UserWarning: Can't initialize NVML\n",
      "  warnings.warn(\"Can't initialize NVML\")\n",
      "/home/jupyter-mdiaz/.local/lib/python3.9/site-packages/torch/cuda/__init__.py:758: UserWarning: CUDA initialization: Unexpected error from cudaGetDeviceCount(). Did you run some cuda functions before calling NumCudaDevices() that might have already set an error? Error 803: system has unsupported display driver / cuda driver combination (Triggered internally at ../c10/cuda/CUDAFunctions.cpp:108.)\n",
      "  return torch._C._cuda_getDeviceCount() if nvml_count < 0 else nvml_count\n",
      "GPU available: False, used: False\n",
      "TPU available: False, using: 0 TPU cores\n",
      "IPU available: False, using: 0 IPUs\n",
      "HPU available: False, using: 0 HPUs\n"
     ]
    },
    {
     "name": "stdout",
     "output_type": "stream",
     "text": [
      "Epoch 1/400:   0%|          | 0/400 [00:00<?, ?it/s]"
     ]
    },
    {
     "name": "stderr",
     "output_type": "stream",
     "text": [
      "/opt/tljh/user/lib/python3.9/abc.py:119: FutureWarning: SparseDataset is deprecated and will be removed in late 2024. It has been replaced by the public classes CSRDataset and CSCDataset.\n",
      "\n",
      "For instance checks, use `isinstance(X, (anndata.experimental.CSRDataset, anndata.experimental.CSCDataset))` instead.\n",
      "\n",
      "For creation, use `anndata.experimental.sparse_dataset(X)` instead.\n",
      "\n",
      "  return _abc_instancecheck(cls, instance)\n"
     ]
    },
    {
     "name": "stdout",
     "output_type": "stream",
     "text": [
      "Epoch 400/400: 100%|██████████| 400/400 [10:43<00:00,  1.57s/it, v_num=1, train_loss_step=2.34e+3, train_loss_epoch=2.06e+3]"
     ]
    },
    {
     "name": "stderr",
     "output_type": "stream",
     "text": [
      "`Trainer.fit` stopped: `max_epochs=400` reached.\n"
     ]
    },
    {
     "name": "stdout",
     "output_type": "stream",
     "text": [
      "Epoch 400/400: 100%|██████████| 400/400 [10:43<00:00,  1.61s/it, v_num=1, train_loss_step=2.34e+3, train_loss_epoch=2.06e+3]\n"
     ]
    }
   ],
   "source": [
    "scvi.model.SCVI.setup_anndata(adata)\n",
    "vae = scvi.model.SCVI(adata)\n",
    "vae.train()"
   ]
  },
  {
   "cell_type": "code",
   "execution_count": 14,
   "id": "3d7f1cf6",
   "metadata": {},
   "outputs": [
    {
     "name": "stdout",
     "output_type": "stream",
     "text": [
      "\u001b[34mINFO    \u001b[0m Creating doublets, preparing SOLO model.                                                                  \n"
     ]
    },
    {
     "name": "stderr",
     "output_type": "stream",
     "text": [
      "GPU available: False, used: False\n",
      "TPU available: False, using: 0 TPU cores\n",
      "IPU available: False, using: 0 IPUs\n",
      "HPU available: False, using: 0 HPUs\n"
     ]
    },
    {
     "name": "stdout",
     "output_type": "stream",
     "text": [
      "Epoch 218/400:  55%|█████▍    | 218/400 [01:27<01:13,  2.49it/s, v_num=1, train_loss_step=0.201, train_loss_epoch=0.259]\n",
      "Monitored metric validation_loss did not improve in the last 30 records. Best score: 0.251. Signaling Trainer to stop.\n"
     ]
    }
   ],
   "source": [
    "solo = scvi.external.SOLO.from_scvi_model(vae)\n",
    "solo.train()"
   ]
  },
  {
   "cell_type": "code",
   "execution_count": 15,
   "id": "59ef3587",
   "metadata": {},
   "outputs": [
    {
     "data": {
      "text/html": [
       "<div>\n",
       "<style scoped>\n",
       "    .dataframe tbody tr th:only-of-type {\n",
       "        vertical-align: middle;\n",
       "    }\n",
       "\n",
       "    .dataframe tbody tr th {\n",
       "        vertical-align: top;\n",
       "    }\n",
       "\n",
       "    .dataframe thead th {\n",
       "        text-align: right;\n",
       "    }\n",
       "</style>\n",
       "<table border=\"1\" class=\"dataframe\">\n",
       "  <thead>\n",
       "    <tr style=\"text-align: right;\">\n",
       "      <th></th>\n",
       "      <th>doublet</th>\n",
       "      <th>singlet</th>\n",
       "      <th>prediction</th>\n",
       "    </tr>\n",
       "  </thead>\n",
       "  <tbody>\n",
       "    <tr>\n",
       "      <th>CCGGGATAGCTAGTGG</th>\n",
       "      <td>-0.297677</td>\n",
       "      <td>0.629262</td>\n",
       "      <td>singlet</td>\n",
       "    </tr>\n",
       "    <tr>\n",
       "      <th>GCAATCACAATGACCT</th>\n",
       "      <td>1.253553</td>\n",
       "      <td>-0.857474</td>\n",
       "      <td>doublet</td>\n",
       "    </tr>\n",
       "    <tr>\n",
       "      <th>CGGACGTAGGGTGTGT</th>\n",
       "      <td>-0.751078</td>\n",
       "      <td>0.483669</td>\n",
       "      <td>singlet</td>\n",
       "    </tr>\n",
       "    <tr>\n",
       "      <th>GTACGTACATGTCTCC</th>\n",
       "      <td>1.038179</td>\n",
       "      <td>-1.040410</td>\n",
       "      <td>doublet</td>\n",
       "    </tr>\n",
       "    <tr>\n",
       "      <th>TAGAGCTTCTGTGCAA</th>\n",
       "      <td>-1.030195</td>\n",
       "      <td>0.917973</td>\n",
       "      <td>singlet</td>\n",
       "    </tr>\n",
       "    <tr>\n",
       "      <th>...</th>\n",
       "      <td>...</td>\n",
       "      <td>...</td>\n",
       "      <td>...</td>\n",
       "    </tr>\n",
       "    <tr>\n",
       "      <th>ACTATCTCAATAGCGG</th>\n",
       "      <td>-2.208022</td>\n",
       "      <td>2.257040</td>\n",
       "      <td>singlet</td>\n",
       "    </tr>\n",
       "    <tr>\n",
       "      <th>CTGCTGTTCCTAGAAC</th>\n",
       "      <td>-1.324198</td>\n",
       "      <td>2.249975</td>\n",
       "      <td>singlet</td>\n",
       "    </tr>\n",
       "    <tr>\n",
       "      <th>GCGCAACCACAACGTT</th>\n",
       "      <td>-2.750820</td>\n",
       "      <td>3.857270</td>\n",
       "      <td>singlet</td>\n",
       "    </tr>\n",
       "    <tr>\n",
       "      <th>CGGGTCACATCGGAAG</th>\n",
       "      <td>-3.680461</td>\n",
       "      <td>3.609432</td>\n",
       "      <td>singlet</td>\n",
       "    </tr>\n",
       "    <tr>\n",
       "      <th>TCACAAGTCCTGCTTG</th>\n",
       "      <td>-2.173222</td>\n",
       "      <td>2.207749</td>\n",
       "      <td>singlet</td>\n",
       "    </tr>\n",
       "  </tbody>\n",
       "</table>\n",
       "<p>5059 rows × 3 columns</p>\n",
       "</div>"
      ],
      "text/plain": [
       "                   doublet   singlet prediction\n",
       "CCGGGATAGCTAGTGG -0.297677  0.629262    singlet\n",
       "GCAATCACAATGACCT  1.253553 -0.857474    doublet\n",
       "CGGACGTAGGGTGTGT -0.751078  0.483669    singlet\n",
       "GTACGTACATGTCTCC  1.038179 -1.040410    doublet\n",
       "TAGAGCTTCTGTGCAA -1.030195  0.917973    singlet\n",
       "...                    ...       ...        ...\n",
       "ACTATCTCAATAGCGG -2.208022  2.257040    singlet\n",
       "CTGCTGTTCCTAGAAC -1.324198  2.249975    singlet\n",
       "GCGCAACCACAACGTT -2.750820  3.857270    singlet\n",
       "CGGGTCACATCGGAAG -3.680461  3.609432    singlet\n",
       "TCACAAGTCCTGCTTG -2.173222  2.207749    singlet\n",
       "\n",
       "[5059 rows x 3 columns]"
      ]
     },
     "execution_count": 15,
     "metadata": {},
     "output_type": "execute_result"
    }
   ],
   "source": [
    "df = solo.predict()\n",
    "df['prediction'] = solo.predict(soft = False)\n",
    "\n",
    "#df.index = df.index.map(lambda x: x[:-2])\n",
    "\n",
    "df"
   ]
  },
  {
   "cell_type": "code",
   "execution_count": 16,
   "id": "97d26057",
   "metadata": {},
   "outputs": [
    {
     "data": {
      "text/html": [
       "<div>\n",
       "<style scoped>\n",
       "    .dataframe tbody tr th:only-of-type {\n",
       "        vertical-align: middle;\n",
       "    }\n",
       "\n",
       "    .dataframe tbody tr th {\n",
       "        vertical-align: top;\n",
       "    }\n",
       "\n",
       "    .dataframe thead th {\n",
       "        text-align: right;\n",
       "    }\n",
       "</style>\n",
       "<table border=\"1\" class=\"dataframe\">\n",
       "  <thead>\n",
       "    <tr style=\"text-align: right;\">\n",
       "      <th></th>\n",
       "      <th>doublet</th>\n",
       "      <th>singlet</th>\n",
       "    </tr>\n",
       "    <tr>\n",
       "      <th>prediction</th>\n",
       "      <th></th>\n",
       "      <th></th>\n",
       "    </tr>\n",
       "  </thead>\n",
       "  <tbody>\n",
       "    <tr>\n",
       "      <th>doublet</th>\n",
       "      <td>1103</td>\n",
       "      <td>1103</td>\n",
       "    </tr>\n",
       "    <tr>\n",
       "      <th>singlet</th>\n",
       "      <td>3956</td>\n",
       "      <td>3956</td>\n",
       "    </tr>\n",
       "  </tbody>\n",
       "</table>\n",
       "</div>"
      ],
      "text/plain": [
       "            doublet  singlet\n",
       "prediction                  \n",
       "doublet        1103     1103\n",
       "singlet        3956     3956"
      ]
     },
     "execution_count": 16,
     "metadata": {},
     "output_type": "execute_result"
    }
   ],
   "source": [
    "df.groupby('prediction').count()"
   ]
  },
  {
   "cell_type": "code",
   "execution_count": 17,
   "id": "fd7c2686",
   "metadata": {},
   "outputs": [
    {
     "data": {
      "text/html": [
       "<div>\n",
       "<style scoped>\n",
       "    .dataframe tbody tr th:only-of-type {\n",
       "        vertical-align: middle;\n",
       "    }\n",
       "\n",
       "    .dataframe tbody tr th {\n",
       "        vertical-align: top;\n",
       "    }\n",
       "\n",
       "    .dataframe thead th {\n",
       "        text-align: right;\n",
       "    }\n",
       "</style>\n",
       "<table border=\"1\" class=\"dataframe\">\n",
       "  <thead>\n",
       "    <tr style=\"text-align: right;\">\n",
       "      <th></th>\n",
       "      <th>doublet</th>\n",
       "      <th>singlet</th>\n",
       "      <th>prediction</th>\n",
       "      <th>dif</th>\n",
       "    </tr>\n",
       "  </thead>\n",
       "  <tbody>\n",
       "    <tr>\n",
       "      <th>CCGGGATAGCTAGTGG</th>\n",
       "      <td>-0.297677</td>\n",
       "      <td>0.629262</td>\n",
       "      <td>singlet</td>\n",
       "      <td>-0.926939</td>\n",
       "    </tr>\n",
       "    <tr>\n",
       "      <th>GCAATCACAATGACCT</th>\n",
       "      <td>1.253553</td>\n",
       "      <td>-0.857474</td>\n",
       "      <td>doublet</td>\n",
       "      <td>2.111027</td>\n",
       "    </tr>\n",
       "    <tr>\n",
       "      <th>CGGACGTAGGGTGTGT</th>\n",
       "      <td>-0.751078</td>\n",
       "      <td>0.483669</td>\n",
       "      <td>singlet</td>\n",
       "      <td>-1.234747</td>\n",
       "    </tr>\n",
       "    <tr>\n",
       "      <th>GTACGTACATGTCTCC</th>\n",
       "      <td>1.038179</td>\n",
       "      <td>-1.040410</td>\n",
       "      <td>doublet</td>\n",
       "      <td>2.078589</td>\n",
       "    </tr>\n",
       "    <tr>\n",
       "      <th>TAGAGCTTCTGTGCAA</th>\n",
       "      <td>-1.030195</td>\n",
       "      <td>0.917973</td>\n",
       "      <td>singlet</td>\n",
       "      <td>-1.948168</td>\n",
       "    </tr>\n",
       "    <tr>\n",
       "      <th>...</th>\n",
       "      <td>...</td>\n",
       "      <td>...</td>\n",
       "      <td>...</td>\n",
       "      <td>...</td>\n",
       "    </tr>\n",
       "    <tr>\n",
       "      <th>ACTATCTCAATAGCGG</th>\n",
       "      <td>-2.208022</td>\n",
       "      <td>2.257040</td>\n",
       "      <td>singlet</td>\n",
       "      <td>-4.465061</td>\n",
       "    </tr>\n",
       "    <tr>\n",
       "      <th>CTGCTGTTCCTAGAAC</th>\n",
       "      <td>-1.324198</td>\n",
       "      <td>2.249975</td>\n",
       "      <td>singlet</td>\n",
       "      <td>-3.574172</td>\n",
       "    </tr>\n",
       "    <tr>\n",
       "      <th>GCGCAACCACAACGTT</th>\n",
       "      <td>-2.750820</td>\n",
       "      <td>3.857270</td>\n",
       "      <td>singlet</td>\n",
       "      <td>-6.608090</td>\n",
       "    </tr>\n",
       "    <tr>\n",
       "      <th>CGGGTCACATCGGAAG</th>\n",
       "      <td>-3.680461</td>\n",
       "      <td>3.609432</td>\n",
       "      <td>singlet</td>\n",
       "      <td>-7.289893</td>\n",
       "    </tr>\n",
       "    <tr>\n",
       "      <th>TCACAAGTCCTGCTTG</th>\n",
       "      <td>-2.173222</td>\n",
       "      <td>2.207749</td>\n",
       "      <td>singlet</td>\n",
       "      <td>-4.380971</td>\n",
       "    </tr>\n",
       "  </tbody>\n",
       "</table>\n",
       "<p>5059 rows × 4 columns</p>\n",
       "</div>"
      ],
      "text/plain": [
       "                   doublet   singlet prediction       dif\n",
       "CCGGGATAGCTAGTGG -0.297677  0.629262    singlet -0.926939\n",
       "GCAATCACAATGACCT  1.253553 -0.857474    doublet  2.111027\n",
       "CGGACGTAGGGTGTGT -0.751078  0.483669    singlet -1.234747\n",
       "GTACGTACATGTCTCC  1.038179 -1.040410    doublet  2.078589\n",
       "TAGAGCTTCTGTGCAA -1.030195  0.917973    singlet -1.948168\n",
       "...                    ...       ...        ...       ...\n",
       "ACTATCTCAATAGCGG -2.208022  2.257040    singlet -4.465061\n",
       "CTGCTGTTCCTAGAAC -1.324198  2.249975    singlet -3.574172\n",
       "GCGCAACCACAACGTT -2.750820  3.857270    singlet -6.608090\n",
       "CGGGTCACATCGGAAG -3.680461  3.609432    singlet -7.289893\n",
       "TCACAAGTCCTGCTTG -2.173222  2.207749    singlet -4.380971\n",
       "\n",
       "[5059 rows x 4 columns]"
      ]
     },
     "execution_count": 17,
     "metadata": {},
     "output_type": "execute_result"
    }
   ],
   "source": [
    "df['dif'] = df.doublet - df.singlet\n",
    "df"
   ]
  },
  {
   "cell_type": "code",
   "execution_count": 18,
   "id": "c81ab3ad",
   "metadata": {},
   "outputs": [],
   "source": [
    "import seaborn as sns"
   ]
  },
  {
   "cell_type": "code",
   "execution_count": 19,
   "id": "4eb5320c",
   "metadata": {},
   "outputs": [
    {
     "data": {
      "text/plain": [
       "<seaborn.axisgrid.FacetGrid at 0x7f300c0e5370>"
      ]
     },
     "execution_count": 19,
     "metadata": {},
     "output_type": "execute_result"
    },
    {
     "data": {
      "image/png": "[encoded data removed]",
      "text/plain": [
       "<Figure size 400x400 with 1 Axes>"
      ]
     },
     "metadata": {
      "image/png": {
       "height": 383,
       "width": 382
      }
     },
     "output_type": "display_data"
    }
   ],
   "source": [
    "sns.displot(df[df.prediction == 'doublet'], x = 'dif')"
   ]
  },
  {
   "cell_type": "code",
   "execution_count": 20,
   "id": "ca43521d",
   "metadata": {},
   "outputs": [
    {
     "data": {
      "text/html": [
       "<div>\n",
       "<style scoped>\n",
       "    .dataframe tbody tr th:only-of-type {\n",
       "        vertical-align: middle;\n",
       "    }\n",
       "\n",
       "    .dataframe tbody tr th {\n",
       "        vertical-align: top;\n",
       "    }\n",
       "\n",
       "    .dataframe thead th {\n",
       "        text-align: right;\n",
       "    }\n",
       "</style>\n",
       "<table border=\"1\" class=\"dataframe\">\n",
       "  <thead>\n",
       "    <tr style=\"text-align: right;\">\n",
       "      <th></th>\n",
       "      <th>doublet</th>\n",
       "      <th>singlet</th>\n",
       "      <th>prediction</th>\n",
       "      <th>dif</th>\n",
       "    </tr>\n",
       "  </thead>\n",
       "  <tbody>\n",
       "    <tr>\n",
       "      <th>GCAATCACAATGACCT</th>\n",
       "      <td>1.253553</td>\n",
       "      <td>-0.857474</td>\n",
       "      <td>doublet</td>\n",
       "      <td>2.111027</td>\n",
       "    </tr>\n",
       "    <tr>\n",
       "      <th>GTACGTACATGTCTCC</th>\n",
       "      <td>1.038179</td>\n",
       "      <td>-1.040410</td>\n",
       "      <td>doublet</td>\n",
       "      <td>2.078589</td>\n",
       "    </tr>\n",
       "    <tr>\n",
       "      <th>CAGCAGCGTGGCTCCA</th>\n",
       "      <td>0.927543</td>\n",
       "      <td>-0.262378</td>\n",
       "      <td>doublet</td>\n",
       "      <td>1.189922</td>\n",
       "    </tr>\n",
       "    <tr>\n",
       "      <th>CCAATCCGTATCGCAT</th>\n",
       "      <td>0.642013</td>\n",
       "      <td>-0.927020</td>\n",
       "      <td>doublet</td>\n",
       "      <td>1.569033</td>\n",
       "    </tr>\n",
       "    <tr>\n",
       "      <th>CGCCAAGCAAAGGCGT</th>\n",
       "      <td>0.833887</td>\n",
       "      <td>-0.777049</td>\n",
       "      <td>doublet</td>\n",
       "      <td>1.610936</td>\n",
       "    </tr>\n",
       "    <tr>\n",
       "      <th>...</th>\n",
       "      <td>...</td>\n",
       "      <td>...</td>\n",
       "      <td>...</td>\n",
       "      <td>...</td>\n",
       "    </tr>\n",
       "    <tr>\n",
       "      <th>ACGGAGATCATTGCCC</th>\n",
       "      <td>0.839362</td>\n",
       "      <td>-1.191746</td>\n",
       "      <td>doublet</td>\n",
       "      <td>2.031108</td>\n",
       "    </tr>\n",
       "    <tr>\n",
       "      <th>GCTCCTACATTAGCCA</th>\n",
       "      <td>1.217786</td>\n",
       "      <td>-0.894151</td>\n",
       "      <td>doublet</td>\n",
       "      <td>2.111938</td>\n",
       "    </tr>\n",
       "    <tr>\n",
       "      <th>CCGTACTAGCAGGTCA</th>\n",
       "      <td>0.655943</td>\n",
       "      <td>-0.617749</td>\n",
       "      <td>doublet</td>\n",
       "      <td>1.273692</td>\n",
       "    </tr>\n",
       "    <tr>\n",
       "      <th>GTAGTCAAGTGAAGTT</th>\n",
       "      <td>0.753655</td>\n",
       "      <td>-0.466412</td>\n",
       "      <td>doublet</td>\n",
       "      <td>1.220067</td>\n",
       "    </tr>\n",
       "    <tr>\n",
       "      <th>ATTACTCGTGCAACGA</th>\n",
       "      <td>0.904710</td>\n",
       "      <td>-1.004839</td>\n",
       "      <td>doublet</td>\n",
       "      <td>1.909549</td>\n",
       "    </tr>\n",
       "  </tbody>\n",
       "</table>\n",
       "<p>537 rows × 4 columns</p>\n",
       "</div>"
      ],
      "text/plain": [
       "                   doublet   singlet prediction       dif\n",
       "GCAATCACAATGACCT  1.253553 -0.857474    doublet  2.111027\n",
       "GTACGTACATGTCTCC  1.038179 -1.040410    doublet  2.078589\n",
       "CAGCAGCGTGGCTCCA  0.927543 -0.262378    doublet  1.189922\n",
       "CCAATCCGTATCGCAT  0.642013 -0.927020    doublet  1.569033\n",
       "CGCCAAGCAAAGGCGT  0.833887 -0.777049    doublet  1.610936\n",
       "...                    ...       ...        ...       ...\n",
       "ACGGAGATCATTGCCC  0.839362 -1.191746    doublet  2.031108\n",
       "GCTCCTACATTAGCCA  1.217786 -0.894151    doublet  2.111938\n",
       "CCGTACTAGCAGGTCA  0.655943 -0.617749    doublet  1.273692\n",
       "GTAGTCAAGTGAAGTT  0.753655 -0.466412    doublet  1.220067\n",
       "ATTACTCGTGCAACGA  0.904710 -1.004839    doublet  1.909549\n",
       "\n",
       "[537 rows x 4 columns]"
      ]
     },
     "execution_count": 20,
     "metadata": {},
     "output_type": "execute_result"
    }
   ],
   "source": [
    "doublets = df[(df.prediction == 'doublet') & (df.dif > 1)]\n",
    "doublets"
   ]
  },
  {
   "cell_type": "code",
   "execution_count": 21,
   "id": "8f25d82b",
   "metadata": {},
   "outputs": [],
   "source": [
    "adata.obs['doublet'] = adata.obs.index.isin(doublets.index)"
   ]
  },
  {
   "cell_type": "code",
   "execution_count": 22,
   "id": "d5a8feb4",
   "metadata": {},
   "outputs": [
    {
     "data": {
      "text/html": [
       "<div>\n",
       "<style scoped>\n",
       "    .dataframe tbody tr th:only-of-type {\n",
       "        vertical-align: middle;\n",
       "    }\n",
       "\n",
       "    .dataframe tbody tr th {\n",
       "        vertical-align: top;\n",
       "    }\n",
       "\n",
       "    .dataframe thead th {\n",
       "        text-align: right;\n",
       "    }\n",
       "</style>\n",
       "<table border=\"1\" class=\"dataframe\">\n",
       "  <thead>\n",
       "    <tr style=\"text-align: right;\">\n",
       "      <th></th>\n",
       "      <th>n_genes</th>\n",
       "      <th>_scvi_batch</th>\n",
       "      <th>_scvi_labels</th>\n",
       "      <th>doublet</th>\n",
       "    </tr>\n",
       "    <tr>\n",
       "      <th>CellID</th>\n",
       "      <th></th>\n",
       "      <th></th>\n",
       "      <th></th>\n",
       "      <th></th>\n",
       "    </tr>\n",
       "  </thead>\n",
       "  <tbody>\n",
       "    <tr>\n",
       "      <th>CCGGGATAGCTAGTGG</th>\n",
       "      <td>821</td>\n",
       "      <td>0</td>\n",
       "      <td>0</td>\n",
       "      <td>False</td>\n",
       "    </tr>\n",
       "    <tr>\n",
       "      <th>GCAATCACAATGACCT</th>\n",
       "      <td>763</td>\n",
       "      <td>0</td>\n",
       "      <td>0</td>\n",
       "      <td>True</td>\n",
       "    </tr>\n",
       "    <tr>\n",
       "      <th>CGGACGTAGGGTGTGT</th>\n",
       "      <td>478</td>\n",
       "      <td>0</td>\n",
       "      <td>0</td>\n",
       "      <td>False</td>\n",
       "    </tr>\n",
       "    <tr>\n",
       "      <th>GTACGTACATGTCTCC</th>\n",
       "      <td>1373</td>\n",
       "      <td>0</td>\n",
       "      <td>0</td>\n",
       "      <td>True</td>\n",
       "    </tr>\n",
       "    <tr>\n",
       "      <th>TAGAGCTTCTGTGCAA</th>\n",
       "      <td>322</td>\n",
       "      <td>0</td>\n",
       "      <td>0</td>\n",
       "      <td>False</td>\n",
       "    </tr>\n",
       "    <tr>\n",
       "      <th>...</th>\n",
       "      <td>...</td>\n",
       "      <td>...</td>\n",
       "      <td>...</td>\n",
       "      <td>...</td>\n",
       "    </tr>\n",
       "    <tr>\n",
       "      <th>ACTATCTCAATAGCGG</th>\n",
       "      <td>396</td>\n",
       "      <td>0</td>\n",
       "      <td>0</td>\n",
       "      <td>False</td>\n",
       "    </tr>\n",
       "    <tr>\n",
       "      <th>CTGCTGTTCCTAGAAC</th>\n",
       "      <td>254</td>\n",
       "      <td>0</td>\n",
       "      <td>0</td>\n",
       "      <td>False</td>\n",
       "    </tr>\n",
       "    <tr>\n",
       "      <th>GCGCAACCACAACGTT</th>\n",
       "      <td>230</td>\n",
       "      <td>0</td>\n",
       "      <td>0</td>\n",
       "      <td>False</td>\n",
       "    </tr>\n",
       "    <tr>\n",
       "      <th>CGGGTCACATCGGAAG</th>\n",
       "      <td>220</td>\n",
       "      <td>0</td>\n",
       "      <td>0</td>\n",
       "      <td>False</td>\n",
       "    </tr>\n",
       "    <tr>\n",
       "      <th>TCACAAGTCCTGCTTG</th>\n",
       "      <td>306</td>\n",
       "      <td>0</td>\n",
       "      <td>0</td>\n",
       "      <td>False</td>\n",
       "    </tr>\n",
       "  </tbody>\n",
       "</table>\n",
       "<p>5059 rows × 4 columns</p>\n",
       "</div>"
      ],
      "text/plain": [
       "                  n_genes  _scvi_batch  _scvi_labels  doublet\n",
       "CellID                                                       \n",
       "CCGGGATAGCTAGTGG      821            0             0    False\n",
       "GCAATCACAATGACCT      763            0             0     True\n",
       "CGGACGTAGGGTGTGT      478            0             0    False\n",
       "GTACGTACATGTCTCC     1373            0             0     True\n",
       "TAGAGCTTCTGTGCAA      322            0             0    False\n",
       "...                   ...          ...           ...      ...\n",
       "ACTATCTCAATAGCGG      396            0             0    False\n",
       "CTGCTGTTCCTAGAAC      254            0             0    False\n",
       "GCGCAACCACAACGTT      230            0             0    False\n",
       "CGGGTCACATCGGAAG      220            0             0    False\n",
       "TCACAAGTCCTGCTTG      306            0             0    False\n",
       "\n",
       "[5059 rows x 4 columns]"
      ]
     },
     "execution_count": 22,
     "metadata": {},
     "output_type": "execute_result"
    }
   ],
   "source": [
    "adata.obs"
   ]
  },
  {
   "cell_type": "code",
   "execution_count": 23,
   "id": "5603813c",
   "metadata": {},
   "outputs": [],
   "source": [
    "columns_to_drop = ['_scvi_batch', '_scvi_labels']\n",
    "\n",
    "# Eliminar las columnas\n",
    "adata.obs.drop(columns_to_drop, axis=1, inplace=True)"
   ]
  },
  {
   "cell_type": "code",
   "execution_count": 24,
   "id": "57e4f9b3",
   "metadata": {},
   "outputs": [],
   "source": [
    "adata = adata[~adata.obs.doublet]"
   ]
  },
  {
   "cell_type": "code",
   "execution_count": 25,
   "id": "342fd16d",
   "metadata": {},
   "outputs": [
    {
     "data": {
      "text/html": [
       "<div>\n",
       "<style scoped>\n",
       "    .dataframe tbody tr th:only-of-type {\n",
       "        vertical-align: middle;\n",
       "    }\n",
       "\n",
       "    .dataframe tbody tr th {\n",
       "        vertical-align: top;\n",
       "    }\n",
       "\n",
       "    .dataframe thead th {\n",
       "        text-align: right;\n",
       "    }\n",
       "</style>\n",
       "<table border=\"1\" class=\"dataframe\">\n",
       "  <thead>\n",
       "    <tr style=\"text-align: right;\">\n",
       "      <th></th>\n",
       "      <th>n_genes</th>\n",
       "      <th>doublet</th>\n",
       "    </tr>\n",
       "    <tr>\n",
       "      <th>CellID</th>\n",
       "      <th></th>\n",
       "      <th></th>\n",
       "    </tr>\n",
       "  </thead>\n",
       "  <tbody>\n",
       "    <tr>\n",
       "      <th>CCGGGATAGCTAGTGG</th>\n",
       "      <td>821</td>\n",
       "      <td>False</td>\n",
       "    </tr>\n",
       "    <tr>\n",
       "      <th>CGGACGTAGGGTGTGT</th>\n",
       "      <td>478</td>\n",
       "      <td>False</td>\n",
       "    </tr>\n",
       "    <tr>\n",
       "      <th>TAGAGCTTCTGTGCAA</th>\n",
       "      <td>322</td>\n",
       "      <td>False</td>\n",
       "    </tr>\n",
       "    <tr>\n",
       "      <th>ACTGATGAGACAAGCC</th>\n",
       "      <td>1584</td>\n",
       "      <td>False</td>\n",
       "    </tr>\n",
       "    <tr>\n",
       "      <th>TGGGCGTTCCATGAAC</th>\n",
       "      <td>243</td>\n",
       "      <td>False</td>\n",
       "    </tr>\n",
       "    <tr>\n",
       "      <th>...</th>\n",
       "      <td>...</td>\n",
       "      <td>...</td>\n",
       "    </tr>\n",
       "    <tr>\n",
       "      <th>ACTATCTCAATAGCGG</th>\n",
       "      <td>396</td>\n",
       "      <td>False</td>\n",
       "    </tr>\n",
       "    <tr>\n",
       "      <th>CTGCTGTTCCTAGAAC</th>\n",
       "      <td>254</td>\n",
       "      <td>False</td>\n",
       "    </tr>\n",
       "    <tr>\n",
       "      <th>GCGCAACCACAACGTT</th>\n",
       "      <td>230</td>\n",
       "      <td>False</td>\n",
       "    </tr>\n",
       "    <tr>\n",
       "      <th>CGGGTCACATCGGAAG</th>\n",
       "      <td>220</td>\n",
       "      <td>False</td>\n",
       "    </tr>\n",
       "    <tr>\n",
       "      <th>TCACAAGTCCTGCTTG</th>\n",
       "      <td>306</td>\n",
       "      <td>False</td>\n",
       "    </tr>\n",
       "  </tbody>\n",
       "</table>\n",
       "<p>4522 rows × 2 columns</p>\n",
       "</div>"
      ],
      "text/plain": [
       "                  n_genes  doublet\n",
       "CellID                            \n",
       "CCGGGATAGCTAGTGG      821    False\n",
       "CGGACGTAGGGTGTGT      478    False\n",
       "TAGAGCTTCTGTGCAA      322    False\n",
       "ACTGATGAGACAAGCC     1584    False\n",
       "TGGGCGTTCCATGAAC      243    False\n",
       "...                   ...      ...\n",
       "ACTATCTCAATAGCGG      396    False\n",
       "CTGCTGTTCCTAGAAC      254    False\n",
       "GCGCAACCACAACGTT      230    False\n",
       "CGGGTCACATCGGAAG      220    False\n",
       "TCACAAGTCCTGCTTG      306    False\n",
       "\n",
       "[4522 rows x 2 columns]"
      ]
     },
     "execution_count": 25,
     "metadata": {},
     "output_type": "execute_result"
    }
   ],
   "source": [
    "adata.obs"
   ]
  },
  {
   "cell_type": "code",
   "execution_count": null,
   "id": "517fa06f",
   "metadata": {},
   "outputs": [],
   "source": []
  }
 ],
 "metadata": {
  "kernelspec": {
   "display_name": "Python 3 (EpiTeam)",
   "language": "python",
   "name": "python3"
  },
  "language_info": {
   "codemirror_mode": {
    "name": "ipython",
    "version": 3
   },
   "file_extension": ".py",
   "mimetype": "text/x-python",
   "name": "python",
   "nbconvert_exporter": "python",
   "pygments_lexer": "ipython3",
   "version": "3.9.7"
  }
 },
 "nbformat": 4,
 "nbformat_minor": 5
}
